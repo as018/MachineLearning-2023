{
 "cells": [
  {
   "cell_type": "markdown",
   "id": "f5114f74",
   "metadata": {},
   "source": [
    "# Modified Fuchs Model Dataset Generation V3.1"
   ]
  },
  {
   "cell_type": "markdown",
   "id": "70386b27",
   "metadata": {},
   "source": [
    "### Modified by : Aditya Shah - Author: Ronak Desai, Modified from Notebook from Tom Zhang and Joe Smith"
   ]
  },
  {
   "cell_type": "markdown",
   "id": "9f30f8b6",
   "metadata": {},
   "source": [
    "## Imports and Setting Constants of Notebook"
   ]
  },
  {
   "cell_type": "code",
   "execution_count": 1,
   "id": "65fbe98f",
   "metadata": {},
   "outputs": [],
   "source": [
    "# Imports\n",
    "import numpy as np\n",
    "import scipy.special as special\n",
    "import csv\n",
    "import h5py\n",
    "import matplotlib.pyplot as plt\n",
    "import pandas as pd\n",
    "\n",
    "# Tag to Indicate Description of Dataset\n",
    "tag = 'v3'\n",
    "\n",
    "# Fixed Seed for Repeatability\n",
    "seed = 2\n",
    "np.random.seed(seed)\n",
    "\n",
    "# Number of Data Points and Percentage Gaussian Noise\n",
    "num_points = 20000\n",
    "pct_noise = 5\n",
    "\n",
    "# *******************************************************\n",
    "#  Adjustable Constants that we tweaked from Fuchs Model*\n",
    "# *******************************************************\n",
    "c1=5 # tacc = c1 tFWHM: c1 = 1.3 from Fuchs\n",
    "c2=0.74 # intensity exponent in hot electron fraction f: c2 = 0.74 from Fuchs\n",
    "theta=25 # Divergence Angle theta: theta = 25 deg from Fuchs"
   ]
  },
  {
   "cell_type": "markdown",
   "id": "869c9094",
   "metadata": {},
   "source": [
    "## Defined Functions"
   ]
  },
  {
   "cell_type": "code",
   "execution_count": 2,
   "id": "2a27f248",
   "metadata": {},
   "outputs": [],
   "source": [
    "def calc_laser_energy(I0, w0, tFWHM): # check \n",
    "    \n",
    "    return ((np.pi/2)*I0*w0**2)*tFWHM\n",
    "    #return (np.pi/2)**1.5 *(I0*w0**2)/(2*np.log(2)) * tFWHM # The way its originally implemented from Tom\n",
    "    #return (np.pi/2)**1.5 *(I0*w0**2)/np.sqrt(2*np.log(2)) * 2 *tFWHM\n",
    "    #return (np.pi/2)*I0*w0**2 * tFWHM # sin squared \n",
    "\n",
    "# integrate dN/dE from Emin to Infinity from Eq. (2) in Fuchs Paper\n",
    "def calc_N_above_eMin(ne, cs, tacc, S, Tp, eMin = 0):\n",
    "    return ne*cs*tacc*S*np.exp(-np.sqrt(2*eMin/Tp))\n",
    "\n",
    "# # integrate N(E) (the above function) to get Total Energy above Emin ** Not Working Correctly ** \n",
    "# def calc_E_above_eMin(ne, cs, tacc, S, Tp, eMin = 0):\n",
    "#     return ne*cs*tacc*S*np.exp(-np.sqrt(2*eMin/Tp))*(Tp + np.sqrt(2*eMin*Tp))\n",
    "\n",
    "# Info on Gamma Fxn: https://docs.scipy.org/doc/scipy/reference/generated/scipy.special.gammainc.html\n",
    "# integrate N(E) to get Total Energy below Emin in terms of Gamma Function \n",
    "def calc_E_below_eMin(ne, cs, tacc, S, Tp, eMin = 0):\n",
    "    return ne*cs*tacc*S*Tp*special.gammainc(3, np.sqrt(2*eMin/Tp))\n",
    "\n",
    "# Calculate Max proton energy in terms of normalized acceleration time and hot temperature Tp from Eq. (1) in Fuchs Paper\n",
    "def calc_max_E(omega_pi, tacc, Tp):\n",
    "    tp = omega_pi*tacc / np.sqrt(2*np.exp(1))\n",
    "    return 2*Tp*np.log(tp + np.sqrt(tp**2 + 1))**2\n",
    "\n",
    "def gaussian_noise(Intensity_list, pct_noise):\n",
    "    noisy_Intensity_list = np.random.normal(Intensity_list, Intensity_list*(pct_noise/100))\n",
    "    for i in range(len(noisy_Intensity_list)):\n",
    "        while(noisy_Intensity_list[i] < 0):\n",
    "            print('found (-) Intensity value at i = {} during dataset generation, resampling now ...'.format(i))\n",
    "            noisy_Intensity_list[i] = np.random.normal(Intensity_list[i], Intensity_list[i]*(pct_noise/100))\n",
    "    return noisy_Intensity_list\n",
    "    \n",
    "def fuchs_model(I0, z, d, w0 = 2.0e-6, lmda = 0.8e-6, tFWHM = 40.0e-15, c1 = 1.3, c2 = 0.74, theta = 25, pct_noise = 0):\n",
    "    c = 2.998e8\n",
    "    m= 9.109e-31\n",
    "    e=1.602e-19\n",
    "    mi=1.673e-27\n",
    "    Zi=1\n",
    "    eps0=8.854e-12\n",
    "    \n",
    "    I0  = gaussian_noise(I0, pct_noise)\n",
    "\n",
    "    \n",
    "    laser_energy = calc_laser_energy(I0, w0, tFWHM)\n",
    "    \n",
    "    omega = 2*np.pi*c/lmda\n",
    "    zR = np.pi * w0**2 / lmda\n",
    "    theta_rad = theta*np.pi/180\n",
    "    Iz = I0 / (1 + (z/zR)**2)\n",
    "    w = w0*np.sqrt(1 + (z/zR)**2)\n",
    "    #print(w)\n",
    "    E0 = np.sqrt(2*Iz / (c*eps0))\n",
    "    a0 = (e*E0)/(m*omega*c)\n",
    "    gamma = np.sqrt(1+a0**2)\n",
    "    Tp = m*c**2*(gamma - 1)\n",
    "    # T_Wilks == Tp is the Hot Electron Temperature calculated in an equivalent way that I did it\n",
    "    # T_Wilks = 0.511 * (np.sqrt(1+(Iz*1e-4)*(lmda*1e6)**2/1.37E18) -1) \n",
    "\n",
    "    f = np.minimum(1.2e-15 * (Iz*1e-4)**c2, 0.5)\n",
    "    Ne = f*laser_energy / Tp\n",
    "    r0 = w* np.sqrt(2*np.log(2))/2\n",
    "    S = np.pi*(r0 + d*np.tan(theta_rad))**2\n",
    "    ne = Ne / (S*c*tFWHM) #added 1.3 -JS\n",
    "    #print(ne)\n",
    "    omega_pi = np.sqrt(Zi * e**2 *ne / (mi*eps0))\n",
    "    tacc = c1 * tFWHM\n",
    "\n",
    "    eMax = calc_max_E(omega_pi, tacc, Tp)\n",
    "\n",
    "    cs = np.sqrt(Zi*Tp/mi) # Sound Speed\n",
    "    num_protons = calc_N_above_eMin(ne, cs, tacc, S, Tp, eMin=0) - calc_N_above_eMin(ne, cs, tacc, S, Tp, eMin=eMax)\n",
    "    #total_proton_energy = calc_E_above_eMin(ne, cs, tacc, S, Tp, eMin=0) - calc_E_above_eMin(ne, cs, tacc, S, Tp, eMin=eMax)\n",
    "    total_proton_energy = calc_E_below_eMin(ne, cs, tacc, S, Tp, eMin=eMax) - calc_E_below_eMin(ne, cs, tacc, S, Tp, eMin=0)\n",
    "    average_proton_energy = total_proton_energy/num_protons\n",
    "\n",
    "    # Convert Energies to MeV\n",
    "    max_proton_energy_MeV = eMax / (1.6e-13)\n",
    "    total_proton_energy_MeV = total_proton_energy / (1.6e-13)\n",
    "    average_proton_energy_MeV = average_proton_energy / (1.6e-13)\n",
    "    \n",
    "    # Laser to Proton Energy Conversion Ratio\n",
    "    laser_conversion_efficiency = total_proton_energy / laser_energy\n",
    "    \n",
    "    # Add Gaussian Noise\n",
    "    #noisy_max_proton_energy_MeV = gaussian_noise(max_proton_energy_MeV, pct_noise)\n",
    "    #noisy_total_proton_energy_MeV = gaussian_noise(total_proton_energy_MeV, pct_noise)\n",
    "    #noisy_average_proton_energy_MeV = gaussian_noise(average_proton_energy_MeV, pct_noise)\n",
    "    \n",
    "    return (max_proton_energy_MeV, total_proton_energy_MeV, average_proton_energy_MeV,\n",
    "            laser_conversion_efficiency, laser_energy)"
   ]
  },
  {
   "cell_type": "markdown",
   "id": "63372505",
   "metadata": {},
   "source": [
    "## Different Test Cases"
   ]
  },
  {
   "cell_type": "code",
   "execution_count": 3,
   "id": "6a9b93c0",
   "metadata": {},
   "outputs": [
    {
     "name": "stdout",
     "output_type": "stream",
     "text": [
      "**Example WP Laser Parameters**\n",
      "max:  [0.08954686 0.05049334 0.34776926]\n",
      "tot:  [ 9250469.48663005  3608062.72105013 51779682.48573664]\n",
      "avg:  [0.0237729  0.01391016 0.07351975]\n",
      "las E:  [0.00657529 0.00534814 0.00826131]\n",
      "**Example from Table (1) in Fuchs Paper**\n",
      "max:  [368.53467852 107.53536038  61.75451898  26.84757259  83.84247216\n",
      "   9.61654974]\n",
      "tot:  [1.00544197e+14 1.10745618e+13 4.14789141e+12 7.99831149e+11\n",
      " 5.66812887e+12 2.72501752e+11]\n",
      "avg:  [35.57971923 13.28708724  8.44755936  4.03356568  6.44401394  1.27730868]\n",
      "las E:  [146.8484685   29.3696937   14.68484685   4.40545405  18.35605856\n",
      "   3.91595916]\n"
     ]
    }
   ],
   "source": [
    "print(\"**Example WP Laser Parameters**\")\n",
    "intensities = np.array([2.73e22, 2.14e22, 4.18e22])\n",
    "focal_distances = np.array([-1.5926e-6, -4.6625e-6, -6.3112e-6])\n",
    "target_thicknesses = np.array([5.7218e-6, 6.3831e-6, 1.7785e-6])\n",
    "tmp = fuchs_model(intensities, focal_distances, target_thicknesses, c1=5.0, c2=0.74, theta=25, pct_noise = 10)\n",
    "print('max: ', tmp[0])\n",
    "print('tot: ', tmp[1])\n",
    "print('avg: ', tmp[2])\n",
    "print('las E: ', tmp[4])\n",
    "print(\"**Example from Table (1) in Fuchs Paper**\")\n",
    "intensities = np.array([1e22, 2e21, 1e21, 3e20, 3e20, 3e19])*1e4\n",
    "focal_distances = np.zeros(6) #np.array([6e-6]*6)\n",
    "target_thicknesses = np.array([2e-6, 2e-6, 2e-6, 1e-6, 4e-6, 19e-6])\n",
    "times = np.array([36e-15, 36e-15, 36e-15, 36e-15, 150e-15, 320e-15])\n",
    "tmp = fuchs_model(intensities, focal_distances, target_thicknesses, c1=1.3, c2=0.74, theta=25, tFWHM=times, lmda=1.057e-6,w0 = 0.8493218*6e-6)\n",
    "#tFWHM = pulse duration\n",
    "print('max: ', tmp[0])\n",
    "print('tot: ', tmp[1])\n",
    "print('avg: ', tmp[2])\n",
    "print('las E: ', tmp[4])"
   ]
  },
  {
   "cell_type": "code",
   "execution_count": 4,
   "id": "31098922",
   "metadata": {},
   "outputs": [
    {
     "data": {
      "text/plain": [
       "(array([5640., 3316., 2432., 1854., 1554., 1313., 1150.,  999.,  928.,\n",
       "         814.]),\n",
       " array([1.00016493e+22, 1.89996266e+22, 2.79976040e+22, 3.69955813e+22,\n",
       "        4.59935586e+22, 5.49915359e+22, 6.39895132e+22, 7.29874906e+22,\n",
       "        8.19854679e+22, 9.09834452e+22, 9.99814225e+22]),\n",
       " <BarContainer object of 10 artists>)"
      ]
     },
     "execution_count": 4,
     "metadata": {},
     "output_type": "execute_result"
    },
    {
     "data": {
      "image/png": "[encoded data removed]",
      "text/plain": [
       "<Figure size 432x288 with 1 Axes>"
      ]
     },
     "metadata": {
      "needs_background": "light"
     },
     "output_type": "display_data"
    }
   ],
   "source": [
    "# Everything is in Base SI Units (kg, m, s)\n",
    "# Changing Intensity, Target Thickness, Focal Distance\n",
    "intensity_min = 22 # In W/m^2\n",
    "intensity_max = 23\n",
    "focal_distance_min = -10.0e-6\n",
    "focal_distance_max = 10.0e-6\n",
    "target_thickness_min = 0.5e-6\n",
    "target_thickness_max = 10.0e-6\n",
    "# FWHM Period and Spot Size Constant\n",
    "t_FWHM_min = 40.0e-15\n",
    "t_FWHM_max = 40.0e-15\n",
    "spot_size_min = 2.0e-6\n",
    "spot_size_max = 2.0e-6\n",
    "\n",
    "# Randomly generate data inputs distributed uniformly in their intervals\n",
    "intensities = 10**np.random.uniform(intensity_min, intensity_max, num_points)\n",
    "focal_distances = np.random.uniform(focal_distance_min, focal_distance_max, num_points)\n",
    "thicknesses = np.random.uniform(target_thickness_min, target_thickness_max, num_points)\n",
    "time_FWHMs = np.random.uniform(t_FWHM_min, t_FWHM_max, num_points)\n",
    "spot_sizes = np.random.uniform(spot_size_min, spot_size_max, num_points)\n",
    "\n",
    "In = intensities \n",
    "# tFWHM = 40fs, spot_size = 2e-6 by default\n",
    "max_en, tot_en, avg_en, efficiency, laser_en = fuchs_model(In, focal_distances, thicknesses, c1=c1, c2=c2, theta=theta, pct_noise=pct_noise)\n",
    "plt.hist(intensities)"
   ]
  },
  {
   "cell_type": "markdown",
   "id": "ae8ed8e9",
   "metadata": {},
   "source": [
    "## Make Sample Plots to Explore Parameter Space"
   ]
  },
  {
   "cell_type": "code",
   "execution_count": 5,
   "id": "87bba593",
   "metadata": {
    "scrolled": true
   },
   "outputs": [
    {
     "data": {
      "text/plain": [
       "[<matplotlib.lines.Line2D at 0x2ad1c5c5f610>]"
      ]
     },
     "execution_count": 5,
     "metadata": {},
     "output_type": "execute_result"
    },
    {
     "data": {
      "image/png": "[encoded data removed]",
      "text/plain": [
       "<Figure size 432x288 with 1 Axes>"
      ]
     },
     "metadata": {
      "needs_background": "light"
     },
     "output_type": "display_data"
    },
    {
     "data": {
      "image/png": "[encoded data removed]",
      "text/plain": [
       "<Figure size 432x288 with 1 Axes>"
      ]
     },
     "metadata": {
      "needs_background": "light"
     },
     "output_type": "display_data"
    },
    {
     "data": {
      "image/png": "[encoded data removed]",
      "text/plain": [
       "<Figure size 432x288 with 1 Axes>"
      ]
     },
     "metadata": {
      "needs_background": "light"
     },
     "output_type": "display_data"
    }
   ],
   "source": [
    "fig, ax = plt.subplots()\n",
    "order = np.argsort(intensities)\n",
    "ax.set_ylabel('Max Energy (MeV)')\n",
    "ax.set_xlabel('Intensity ($10^{18} W/cm^2$)')\n",
    "ax.plot(intensities[order]/10**22, max_en[order])\n",
    "fig, ax = plt.subplots()\n",
    "ax.set_ylabel('Max Energy (MeV)')\n",
    "ax.set_xlabel('Focal Distance ($\\mu m$)')\n",
    "order = np.argsort(focal_distances)\n",
    "ax.plot(focal_distances[order]*1e6, max_en[order])\n",
    "fig, ax = plt.subplots()\n",
    "ax.set_ylabel('Max Energy (MeV)')\n",
    "ax.set_xlabel('Target Thickness ($\\mu m$)')\n",
    "order = np.argsort(thicknesses)\n",
    "ax.plot(thicknesses[order]*1e6, max_en[order])"
   ]
  },
  {
   "cell_type": "code",
   "execution_count": 6,
   "id": "958af543",
   "metadata": {},
   "outputs": [
    {
     "name": "stdout",
     "output_type": "stream",
     "text": [
      "Storing to CSV file ...\n"
     ]
    }
   ],
   "source": [
    "fname = 'fuchs_' + str(tag) + '_points_' + str(num_points) + '_noise_' + str(pct_noise)\n",
    "h5_name = \"datasets/Intensity/\" + fname + \".h5\"\n",
    "\n",
    "h5f = h5py.File(h5_name, 'w')\n",
    "h5f.create_dataset('Intensity_(W_cm2)', data= intensities*1e-4) # Convert to W/cm^2\n",
    "h5f.create_dataset('Pulse_Duration_(fs)', data= time_FWHMs*1e15) # Convert to fs\n",
    "h5f.create_dataset('Target_Thickness (um)', data= thicknesses*1e6) # Convert to micron\n",
    "h5f.create_dataset('Spot_Size_(FWHM um)', data=spot_sizes*1e6) # Convert to micron\n",
    "h5f.create_dataset('Focal_Distance_(um)', data=focal_distances*1e6) # Convert to micron\n",
    "h5f.create_dataset('Max_Proton_Energy_(MeV)', data=max_en)\n",
    "h5f.create_dataset('Total_Proton_Energy_(MeV)', data = tot_en)\n",
    "h5f.create_dataset('Avg_Proton_Energy_(MeV)', data = avg_en)\n",
    "h5f.create_dataset('laser_E(mJ)', data = laser_en*1e3)\n",
    "h5f.create_dataset('ratio_proE_laserE_', data = efficiency)\n",
    "\n",
    "h5f.close()\n",
    "\n",
    "print('Storing to CSV file ...')\n",
    "f = h5py.File(h5_name, 'r')\n",
    "dsets = list(f.keys())\n",
    "num_points = f[dsets[0]].shape[0]\n",
    "num_columns = len(dsets)\n",
    "\n",
    "data = np.zeros((num_points, num_columns))\n",
    "for i in range(num_columns):\n",
    "    data[:,i] = f[dsets[i]][:]\n",
    "\n",
    "df = pd.DataFrame(data, columns=dsets)\n",
    "df.to_csv('datasets/Intensity/' + fname + '.csv', index=False)"
   ]
  },
  {
   "cell_type": "code",
   "execution_count": null,
   "id": "f1a75719",
   "metadata": {},
   "outputs": [],
   "source": []
  }
 ],
 "metadata": {
  "kernelspec": {
   "display_name": "Python 3.9 (Conda 2022.05) [python/3.9-2022.05]",
   "language": "python",
   "name": "python39_202205"
  },
  "language_info": {
   "codemirror_mode": {
    "name": "ipython",
    "version": 3
   },
   "file_extension": ".py",
   "mimetype": "text/x-python",
   "name": "python",
   "nbconvert_exporter": "python",
   "pygments_lexer": "ipython3",
   "version": "3.9.12"
  }
 },
 "nbformat": 4,
 "nbformat_minor": 5
}
